{
  "cells": [
    {
      "cell_type": "code",
      "execution_count": null,
      "metadata": {
        "colab": {
          "base_uri": "https://localhost:8080/"
        },
        "id": "BYQck563vwbo",
        "outputId": "11fe0307-6950-4b7e-b061-550928f43ff7"
      },
      "outputs": [
        {
          "output_type": "stream",
          "name": "stdout",
          "text": [
            "Mounted at /content/drive\n"
          ]
        },
        {
          "output_type": "stream",
          "name": "stderr",
          "text": [
            "DEBUG:matplotlib.pyplot:Loaded backend module://ipykernel.pylab.backend_inline version unknown.\n"
          ]
        }
      ],
      "source": [
        "import tensorflow as tf\n",
        "import numpy as np\n",
        "# Tensorflow Dist\n",
        "import tensorflow_probability as tfp\n",
        "tfd = tfp.distributions\n",
        "\n",
        "from collections import deque # Used to have limited arrays\n",
        "\n",
        "import matplotlib.pyplot as plt\n",
        "from matplotlib import cm\n",
        "%matplotlib inline\n",
        "\n",
        "import os\n",
        "import re   #regex\n",
        "import time\n",
        "import datetime\n",
        "#import json\n",
        "#import gc # Garbage collector of Python\n",
        "\n",
        "\n",
        "from datetime import datetime\n",
        "from google.colab import drive\n",
        "# Libs for Images\n",
        "from PIL import Image\n",
        "import imageio\n",
        "\n",
        "import glob #it does pattern matching and expansion <- Retrieving filenames on system and such\n",
        "#from tensorflow.keras.preprocessing.image import ImageDataGenerator\n",
        "\n",
        "\n",
        "#import itertools\n",
        "#from sklearn.metrics import confusion_matrix , classification_report\n",
        "\n",
        "# Manipulate the cells output\n",
        "from IPython import display\n",
        "\n",
        "from IPython.core.interactiveshell import InteractiveShell\n",
        "InteractiveShell.ast_node_interactivity = \"all\"\n",
        "\n",
        "\n",
        "\n",
        "# Set the seed for random operations. \n",
        "# This let our experiments to be reproducible. \n",
        "SEED = 1234\n",
        "tf.random.set_seed(SEED) \n",
        "# Easy life \n",
        "tensorboard_loaded = False\n",
        "\n",
        "\n",
        "#Google Drive\n",
        "drive.mount('/content/drive')\n",
        "# Path settings\n",
        "base_path = '/content/drive/My Drive/'\n",
        "path_to_TrackGAN = base_path + 'Colab Notebooks/TrackGAN/'\n",
        "# Custom Libraries Path\n",
        "import sys\n",
        "sys.path.append(base_path + 'Libs')\n",
        "\n",
        "\n",
        "# Configure the logging\n",
        "import logging \n",
        "logging.basicConfig( level=logging.DEBUG)\n",
        "#logging.basicConfig(format=formatter, level=logging.DEBUG)\n",
        "\n",
        "\n",
        "# Reloading Custom Libraries\n",
        "import importlib\n",
        "\n",
        "# Custom Libraries Import\n",
        "import keras_utils\n",
        "import keras_models\n",
        "import image_utils\n",
        "import train_asses\n",
        "import data_utils\n",
        "import custom_metrics\n"
      ]
    },
    {
      "cell_type": "code",
      "execution_count": null,
      "metadata": {
        "id": "bphlJJro62um"
      },
      "outputs": [],
      "source": [
        "def rlib():\n",
        "  libs = [keras_utils , keras_models , image_utils, train_asses, data_utils , custom_metrics]\n",
        "  for lib in libs:\n",
        "    importlib.reload(lib)"
      ]
    },
    {
      "cell_type": "code",
      "execution_count": null,
      "metadata": {
        "colab": {
          "base_uri": "https://localhost:8080/"
        },
        "id": "cZHRzfUjwF3I",
        "outputId": "a243b4d7-eeb4-4fc1-dbc8-5f09d4f00542"
      },
      "outputs": [
        {
          "output_type": "stream",
          "name": "stdout",
          "text": [
            "Downloading data from https://storage.googleapis.com/tensorflow/tf-keras-datasets/mnist.npz\n",
            "11493376/11490434 [==============================] - 0s 0us/step\n",
            "11501568/11490434 [==============================] - 0s 0us/step\n"
          ]
        },
        {
          "output_type": "execute_result",
          "data": {
            "text/plain": [
              "(70000, 28, 28, 1)"
            ]
          },
          "metadata": {},
          "execution_count": 4
        },
        {
          "output_type": "stream",
          "name": "stdout",
          "text": [
            "\n"
          ]
        },
        {
          "output_type": "execute_result",
          "data": {
            "text/plain": [
              "(70000,)"
            ]
          },
          "metadata": {},
          "execution_count": 4
        }
      ],
      "source": [
        "#cwd = os.getcwd()\n",
        "\n",
        "from keras.datasets import mnist\n",
        "(x_train, y_train), (x_test, y_test) = mnist.load_data()\n",
        "\n",
        "X_ = np.concatenate((x_train, x_test), axis=0)\n",
        "Y_ = np.concatenate((y_train, y_test), axis=0)\n",
        "\n",
        "X_ = X_.reshape(X_.shape[0], 28, 28, 1).astype('float32')\n",
        "\n",
        "X_.shape\n",
        "print()\n",
        "Y_.shape\n",
        "\n"
      ]
    },
    {
      "cell_type": "code",
      "source": [
        "image = np.zeros( shape = [20,20,3])\n",
        "red_image = np.zeros_like(image)\n",
        "red_image[2:8,2:8,0] = 1\n",
        "\n",
        "blue_image = np.zeros_like(image)\n",
        "blue_image[7:14,7:14,2] = tf.random.normal( blue_image[7:14,7:14,2].shape , 0.8, 0.05, tf.float32)\n",
        "\n",
        "green_image = np.zeros_like(image)\n",
        "green_image[0:14,10:20,1] = 1\n"
      ],
      "metadata": {
        "id": "H2C6kLBF9kAo"
      },
      "execution_count": null,
      "outputs": []
    },
    {
      "cell_type": "code",
      "source": [
        "# Create Fake Dataset FOR TESTING RELATIVE DATA DISTRIBUTION\n",
        "\n",
        "image = np.zeros( shape = [28,28,3])\n",
        "\n",
        "X_ = np.zeros( shape = [90,28,28,3] )\n",
        "Y_ = np.zeros( shape = [90,1] )\n",
        "\n",
        "\n",
        "# RED IMAGES\n",
        "X_[:30,2:14,2:14,0] = tf.random.normal( X_[:30,2:14,2:14,0].shape, 160, 10, tf.float32)\n",
        "Y_[:30] = 0\n",
        "# GREEN\n",
        "X_[30:60,0:14,14:28,1] = tf.random.normal( X_[30:60,0:14,14:28,1].shape, 160, 10, tf.float32)\n",
        "Y_[30:60] = 1\n",
        "# BLUE\n",
        "X_[60:90,10:20,10:20,2] = tf.random.normal( X_[60:90,10:20,10:20,2].shape, 160, 10, tf.float32)\n",
        "Y_[60:90] = 2\n",
        "\n",
        "X_.shape\n",
        "Y_.shape"
      ],
      "metadata": {
        "colab": {
          "base_uri": "https://localhost:8080/"
        },
        "id": "2AusTwIkAyoB",
        "outputId": "4a8324f2-120d-4cf9-e9b9-faaa3dc9341b"
      },
      "execution_count": null,
      "outputs": [
        {
          "output_type": "execute_result",
          "data": {
            "text/plain": [
              "(90, 28, 28, 3)"
            ]
          },
          "metadata": {},
          "execution_count": 89
        },
        {
          "output_type": "execute_result",
          "data": {
            "text/plain": [
              "(90, 1)"
            ]
          },
          "metadata": {},
          "execution_count": 89
        }
      ]
    },
    {
      "cell_type": "code",
      "source": [
        "#image_utils.display_image(red_image)\n",
        "#image_utils.display_multiple_image( [red_image, green_image, blue_image], size = [600,300])\n",
        "image_utils.display_multiple_image( X_[:4], size = [600,300])"
      ],
      "metadata": {
        "colab": {
          "base_uri": "https://localhost:8080/",
          "height": 237
        },
        "id": "6oyA2CFA-DIV",
        "outputId": "20afa4ce-c514-4385-ca3b-f2f1df4eba26"
      },
      "execution_count": null,
      "outputs": [
        {
          "output_type": "stream",
          "name": "stderr",
          "text": [
            "WARNING:matplotlib.image:Clipping input data to the valid range for imshow with RGB data ([0..1] for floats or [0..255] for integers).\n",
            "WARNING:matplotlib.image:Clipping input data to the valid range for imshow with RGB data ([0..1] for floats or [0..255] for integers).\n",
            "WARNING:matplotlib.image:Clipping input data to the valid range for imshow with RGB data ([0..1] for floats or [0..255] for integers).\n",
            "WARNING:matplotlib.image:Clipping input data to the valid range for imshow with RGB data ([0..1] for floats or [0..255] for integers).\n"
          ]
        },
        {
          "output_type": "display_data",
          "data": {
            "image/png": "[encoded data removed]",
            "text/plain": [
              "<Figure size 600x300 with 4 Axes>"
            ]
          },
          "metadata": {
            "needs_background": "light"
          }
        }
      ]
    },
    {
      "cell_type": "code",
      "execution_count": null,
      "metadata": {
        "colab": {
          "base_uri": "https://localhost:8080/"
        },
        "id": "pClYjy-o-PDg",
        "outputId": "601f3394-2fbe-457d-e417-b870c66892a1"
      },
      "outputs": [
        {
          "output_type": "execute_result",
          "data": {
            "text/plain": [
              "<BatchDataset element_spec=(TensorSpec(shape=(10, 28, 28, 3), dtype=tf.float64, name=None), TensorSpec(shape=(10, 1), dtype=tf.float64, name=None))>"
            ]
          },
          "metadata": {},
          "execution_count": 90
        },
        {
          "output_type": "stream",
          "name": "stdout",
          "text": [
            "\n"
          ]
        },
        {
          "output_type": "execute_result",
          "data": {
            "text/plain": [
              "<BatchDataset element_spec=(TensorSpec(shape=(None, 28, 28, 3), dtype=tf.float64, name=None), TensorSpec(shape=(None, 1), dtype=tf.float64, name=None))>"
            ]
          },
          "metadata": {},
          "execution_count": 90
        }
      ],
      "source": [
        "BATCH_SIZE = 10\n",
        "BUFFER_SIZE = X_.shape[0]\n",
        "\n",
        "training_dataset = tf.data.Dataset.from_tensor_slices((X_,Y_))\n",
        "# Normalize\n",
        "training_dataset = training_dataset.map(image_utils.normalize_image)\n",
        "# To One Hot\n",
        "#training_dataset = training_dataset.map(train_asses.to_one_hot_encode)\n",
        "# Batch and shuffle the data\n",
        "training_dataset = training_dataset.shuffle(BUFFER_SIZE).batch(BATCH_SIZE,drop_remainder=True) # In Order to have the same batch Dimension, without a repeat dataset - To change  \n",
        "\n",
        "\n",
        "valid_dataset = tf.data.Dataset.from_tensor_slices((X_[-BATCH_SIZE:],Y_[-BATCH_SIZE:]))\n",
        "# Normalize\n",
        "valid_dataset = valid_dataset.map(image_utils.normalize_image)\n",
        "# To One Hot\n",
        "#valid_dataset = valid_dataset.map(train_asses.to_one_hot_encode)\n",
        "# To Batch\n",
        "valid_dataset = valid_dataset.batch(BATCH_SIZE)\n",
        "\n",
        "\n",
        "training_dataset\n",
        "print()\n",
        "valid_dataset"
      ]
    },
    {
      "cell_type": "code",
      "execution_count": null,
      "metadata": {
        "colab": {
          "base_uri": "https://localhost:8080/",
          "height": 195
        },
        "id": "sBcAgRLfE4f4",
        "outputId": "faf97baf-e789-4395-9095-95b0139110fd"
      },
      "outputs": [
        {
          "output_type": "display_data",
          "data": {
            "image/png": "[encoded data removed]",
            "text/plain": [
              "<Figure size 1500x2000 with 8 Axes>"
            ]
          },
          "metadata": {
            "needs_background": "light"
          }
        }
      ],
      "source": [
        "for x,y in training_dataset:\n",
        "  image_utils.display_multiple_image(x[:8] , size=[1500,2000] , denormalize=True)\n",
        "  break"
      ]
    },
    {
      "cell_type": "code",
      "source": [
        ""
      ],
      "metadata": {
        "id": "pDvyHX2L0fBy"
      },
      "execution_count": null,
      "outputs": []
    },
    {
      "cell_type": "code",
      "execution_count": null,
      "metadata": {
        "id": "FWKkR08g38lE"
      },
      "outputs": [],
      "source": [
        "rlib()\n",
        "epsilon = 1e-3\n",
        "\n",
        "# Original Data\n",
        "mean_per_px , std_per_px = image_utils.get_mean_std_per_pixel(X_)\n",
        "mean_per_channel , std_per_channel = image_utils.get_mean_std_per_channel(X_)\n",
        "\n",
        "mean_per_patch_channel , std_per_patch_channel = image_utils.get_mean_std_per_patch(X_ , patch_shape  = [2,2] , patch_type = 'channel' )\n",
        "\n",
        "\n",
        "px_dist = tfd.Normal(loc=mean_per_px+epsilon, scale=std_per_px+epsilon)\n",
        "ch_px_dist = tfd.Normal(loc=mean_per_channel+epsilon, scale=std_per_channel+epsilon)\n",
        "patch_ch_px_dist = tfd.Normal(loc=mean_per_patch_channel+epsilon, scale=std_per_patch_channel+epsilon)"
      ]
    },
    {
      "cell_type": "code",
      "source": [
        "rlib()\n",
        "#mean_per_px , std_per_px = image_utils.get_mean_std_per_pixel(X_ + 13) # skewed\n",
        "#avg_log_loss_res = train_asses.extract_distribution_log_losses(distributions , X_ + 13)\n",
        "#print()\n",
        "log_loss, kl_div = train_asses.extract_distribution_losses(distributions , X_- epsilon)\n",
        "print()\n",
        "log_loss, kl_div = train_asses.extract_distribution_losses(distributions , X_)\n",
        "print()\n",
        "\n"
      ],
      "metadata": {
        "id": "UA_wIChY0i4q"
      },
      "execution_count": null,
      "outputs": []
    },
    {
      "cell_type": "code",
      "source": [
        "distributions = {\"Distribution per Pixel\" : px_dist , \"Distribution Per Channel\" : ch_px_dist , \"Distribution Per (2,2) Patch\" :  patch_ch_px_dist}\n",
        "distributions"
      ],
      "metadata": {
        "id": "ay2VEtQ1lxfd",
        "colab": {
          "base_uri": "https://localhost:8080/"
        },
        "outputId": "976e9adc-23c1-45f6-f27d-20c6fa133dd6"
      },
      "execution_count": null,
      "outputs": [
        {
          "output_type": "execute_result",
          "data": {
            "text/plain": [
              "{'Distribution Per (2,2) Patch': <tfp.distributions.Normal 'Normal' batch_shape=[14, 14, 3] event_shape=[] dtype=float32>,\n",
              " 'Distribution Per Channel': <tfp.distributions.Normal 'Normal' batch_shape=[28, 28, 3] event_shape=[] dtype=float64>,\n",
              " 'Distribution per Pixel': <tfp.distributions.Normal 'Normal' batch_shape=[28, 28] event_shape=[] dtype=float64>}"
            ]
          },
          "metadata": {},
          "execution_count": 93
        }
      ]
    },
    {
      "cell_type": "code",
      "execution_count": null,
      "metadata": {
        "id": "kVkQ5hfY4Prh"
      },
      "outputs": [],
      "source": [
        "rlib()\n",
        "image_utils.plot_channels_dist( [ch_px_dist,ch_px_dist], image_channels = 1, title = [\"Original Data Color Per Channel Distribution\" , \"Gen Data Color Per Channel Distribution\"] )"
      ]
    },
    {
      "cell_type": "code",
      "execution_count": null,
      "metadata": {
        "id": "Zu-QmcVh5psd"
      },
      "outputs": [],
      "source": [
        "rlib()\n",
        "keras_models.make_conditioned_generator_model().summary()\n",
        "keras_models.make_conditioned_discriminator_model().summary()"
      ]
    },
    {
      "cell_type": "code",
      "source": [
        "rlib()\n",
        "#keras_models.define_generator(latent_dim = 100).summary()\n",
        "#keras_models.define_discriminator().summary()\n",
        "keras_models.define_discriminator_rgb().summary()"
      ],
      "metadata": {
        "colab": {
          "base_uri": "https://localhost:8080/"
        },
        "id": "h8fvprHDpKKO",
        "outputId": "18e8ba16-f13a-4bab-93a9-511231369e47"
      },
      "execution_count": null,
      "outputs": [
        {
          "output_type": "stream",
          "name": "stdout",
          "text": [
            "Model: \"model_10\"\n",
            "__________________________________________________________________________________________________\n",
            " Layer (type)                   Output Shape         Param #     Connected to                     \n",
            "==================================================================================================\n",
            " input_21 (InputLayer)          [(None, 1)]          0           []                               \n",
            "                                                                                                  \n",
            " embedding_10 (Embedding)       (None, 1, 50)        500         ['input_21[0][0]']               \n",
            "                                                                                                  \n",
            " dense_20 (Dense)               (None, 1, 2352)      119952      ['embedding_10[0][0]']           \n",
            "                                                                                                  \n",
            " input_22 (InputLayer)          [(None, 28, 28, 3)]  0           []                               \n",
            "                                                                                                  \n",
            " reshape_15 (Reshape)           (None, 28, 28, 3)    0           ['dense_20[0][0]']               \n",
            "                                                                                                  \n",
            " concatenate_10 (Concatenate)   (None, 28, 28, 6)    0           ['input_22[0][0]',               \n",
            "                                                                  'reshape_15[0][0]']             \n",
            "                                                                                                  \n",
            " conv2d_16 (Conv2D)             (None, 14, 14, 128)  7040        ['concatenate_10[0][0]']         \n",
            "                                                                                                  \n",
            " leaky_re_lu_26 (LeakyReLU)     (None, 14, 14, 128)  0           ['conv2d_16[0][0]']              \n",
            "                                                                                                  \n",
            " flatten_5 (Flatten)            (None, 25088)        0           ['leaky_re_lu_26[0][0]']         \n",
            "                                                                                                  \n",
            " dropout_5 (Dropout)            (None, 25088)        0           ['flatten_5[0][0]']              \n",
            "                                                                                                  \n",
            " dense_21 (Dense)               (None, 1)            25089       ['dropout_5[0][0]']              \n",
            "                                                                                                  \n",
            "==================================================================================================\n",
            "Total params: 152,581\n",
            "Trainable params: 152,581\n",
            "Non-trainable params: 0\n",
            "__________________________________________________________________________________________________\n"
          ]
        }
      ]
    },
    {
      "cell_type": "markdown",
      "metadata": {
        "id": "w-OBu3hduPXK"
      },
      "source": [
        "**Discriminator loss**\n",
        "\n",
        "This method quantifies how well the discriminator is able to distinguish real images from fakes. It compares the discriminator's predictions on real images to an array of 1s, and the discriminator's predictions on fake (generated) images to an array of 0s.\n",
        "\n",
        "\n",
        "**Generator loss**\n",
        "\n",
        "The generator's loss quantifies how well it was able to trick the discriminator. Intuitively, if the generator is performing well, the discriminator will classify the fake images as real (or 1). Here, compare the discriminators decisions on the generated images to an array of 1s."
      ]
    },
    {
      "cell_type": "code",
      "execution_count": null,
      "metadata": {
        "id": "PdzTgZqU5qVD"
      },
      "outputs": [],
      "source": [
        "rlib()\n",
        "discriminator_loss = train_asses.discriminator_BinaryCrossentropy_loss\n",
        "generator_loss = train_asses.generator_BinaryCrossentropy_loss"
      ]
    },
    {
      "cell_type": "code",
      "execution_count": null,
      "metadata": {
        "colab": {
          "base_uri": "https://localhost:8080/",
          "height": 57
        },
        "id": "MXyDPFxm5vT8",
        "outputId": "68921631-0b8a-48e8-d378-6816990e2b72"
      },
      "outputs": [
        {
          "output_type": "execute_result",
          "data": {
            "application/vnd.google.colaboratory.intrinsic+json": {
              "type": "string"
            },
            "text/plain": [
              "'/content/drive/My Drive/Colab Notebooks/TrackGAN/logs/fit/ConditionedGAN Sample RGB1'"
            ]
          },
          "metadata": {},
          "execution_count": 108
        }
      ],
      "source": [
        "#generator = keras_models.make_conditioned_generator_model()\n",
        "#discriminator = keras_models.make_conditioned_discriminator_model()\n",
        "rlib()\n",
        "generator = keras_models.define_generator(latent_dim = 100)\n",
        "#discriminator = keras_models.define_discriminator()\n",
        "discriminator = keras_models.define_discriminator_rgb()\n",
        "\n",
        "model_name = 'ConditionedGAN Sample RGB1'\n",
        "\n",
        "lr_schedule = tf.keras.optimizers.schedules.ExponentialDecay(\n",
        "    initial_learning_rate=1e-2,\n",
        "    decay_steps=10000,\n",
        "    decay_rate=0.9)\n",
        "\n",
        "\n",
        "lr_dcgan = 0.0002\n",
        "beta1_dcgan = 0.5\n",
        "#1e-4\n",
        "generator_optimizer = tf.keras.optimizers.Adam(lr_dcgan,beta_1=beta1_dcgan)\n",
        "discriminator_optimizer = tf.keras.optimizers.Adam(lr_dcgan, beta_1=beta1_dcgan)\n",
        "\n",
        "#generator_optimizer = tf.keras.optimizers.Adam(learning_rate = 5e-4)\n",
        "#discriminator_optimizer = tf.keras.optimizers.SGD(learning_rate = 5e-4, momentum = 0.9)\n",
        "\n",
        "#discriminator_optimizer = tf.keras.optimizers.SGD(learning_rate=lr_schedule )\n",
        "\n",
        "\n",
        "checkpoint_dir = path_to_TrackGAN + 'training_checkpoints/' + model_name\n",
        "checkpoint = tf.train.Checkpoint(step=tf.Variable(1),\n",
        "                                 generator_optimizer=generator_optimizer,\n",
        "                                 discriminator_optimizer=discriminator_optimizer,\n",
        "                                 generator=generator,\n",
        "                                 discriminator=discriminator)\n",
        "\n",
        "\n",
        "# Limit Number of checkpoints and Manage restoring\n",
        "checkpoint_manager = tf.train.CheckpointManager(checkpoint, checkpoint_dir, max_to_keep = 5 , checkpoint_name= 'tf_ckpts')\n",
        "\n",
        "\n",
        "# Maybe this is the issue with tensorboard\n",
        "try:\n",
        "  summary_writer.close()\n",
        "except: pass\n",
        "\n",
        "# NO IDEA\n",
        "\n",
        "# tensorboard summary\n",
        "log_dir = path_to_TrackGAN + \"logs/\" + \"fit/\" + model_name \n",
        "log_dir\n",
        "summary_writer = tf.summary.create_file_writer(log_dir)\n",
        "summary_writer.init()"
      ]
    },
    {
      "cell_type": "code",
      "execution_count": null,
      "metadata": {
        "colab": {
          "base_uri": "https://localhost:8080/"
        },
        "id": "dSfR_92TwDyB",
        "outputId": "a0a22424-06c9-407f-cb6b-ce219fcff20d"
      },
      "outputs": [
        {
          "output_type": "stream",
          "name": "stdout",
          "text": [
            "Saving new generated seed to /content/drive/My Drive/DATA_Rep/36cond_seed_mnist_rgb-28x28.npy\n",
            "(9, 10)\n"
          ]
        },
        {
          "output_type": "execute_result",
          "data": {
            "text/plain": [
              "TensorShape([9, 100])"
            ]
          },
          "metadata": {},
          "execution_count": 110
        }
      ],
      "source": [
        "noise_dim = 100\n",
        "num_examples_to_generate = 9\n",
        "\n",
        "# You will reuse this seed overtime (so it's easier)\n",
        "# to visualize progress in the animated GIF)\n",
        "\n",
        "target_seed = np.zeros( (num_examples_to_generate , 10 ) , dtype= np.int32 )\n",
        "\n",
        "for i in range(9):\n",
        "  sample_target = [0,0,0,0,0,0,0,0,0,0]\n",
        "  # Set the index categorical value\n",
        "  sample_target[i] = 1\n",
        "  # Clone the sample n(4) times\n",
        "  target_seed[i*4:(i+1)*4] = sample_target # sample * 4 istance\n",
        "\n",
        "\n",
        "\n",
        "seed_save_path = base_path + 'DATA_Rep/36cond_seed_mnist_rgb-28x28.npy'\n",
        "# Restore or create a new noise seed\n",
        "noise_seed = train_asses.get_seed(shape = [num_examples_to_generate , noise_dim] , seed_save_path = seed_save_path )\n",
        "\n",
        "print(target_seed.shape)\n",
        "noise_seed.shape"
      ]
    },
    {
      "cell_type": "code",
      "source": [
        "# IMRPOVISMENET for embedding layer\n",
        "#target_seed = [ [i]*4 for i in range(10) ]\n",
        "target_seed = np.zeros( (num_examples_to_generate , 1 )  , dtype=np.int32)\n",
        "\n",
        "for i in range(10):\n",
        "  # Clone the sample n(4) times\n",
        "  target_seed[i*4:(i+1)*4] = i # sample * 4 istance\n",
        "\n",
        "target_seed.shape"
      ],
      "metadata": {
        "colab": {
          "base_uri": "https://localhost:8080/"
        },
        "id": "ceBQspy53xdZ",
        "outputId": "7cd8dbba-24a6-4d94-85cd-4d1d73920f17"
      },
      "execution_count": null,
      "outputs": [
        {
          "output_type": "execute_result",
          "data": {
            "text/plain": [
              "(36, 1)"
            ]
          },
          "metadata": {},
          "execution_count": 103
        }
      ]
    },
    {
      "cell_type": "code",
      "source": [
        "# IMPROV FOR SAMPLE RGB\n",
        "target_seed = np.zeros( (num_examples_to_generate , 1 )  , dtype=np.int32)\n",
        "\n",
        "for i in range(3):\n",
        "  # Clone the sample n(4) times\n",
        "  target_seed[i*3:(i+1)*3] = i # sample * 4 istance\n",
        "\n",
        "target_seed.shape"
      ],
      "metadata": {
        "colab": {
          "base_uri": "https://localhost:8080/"
        },
        "id": "00wXFzfAGhcY",
        "outputId": "782f86c5-ceb0-43dd-c66f-f2248c105767"
      },
      "execution_count": null,
      "outputs": [
        {
          "output_type": "execute_result",
          "data": {
            "text/plain": [
              "(9, 1)"
            ]
          },
          "metadata": {},
          "execution_count": 114
        }
      ]
    },
    {
      "cell_type": "code",
      "execution_count": null,
      "metadata": {
        "id": "mLPugOdh3DM2"
      },
      "outputs": [],
      "source": [
        "# This cell is useful if you want to visualize Tensorboard in your Colab notebook. \n",
        "# Please run the cell before training, otherwise you have to wait the training cell is completed before running this one.  \n",
        "\n",
        "# If you are using jupyter notebook, you can skip this cell and open Tensorboard with the following:\n",
        "# From terminal: tensorboard --logdir /PATH/TO/YOUR/EXPERIMENTS/ --port PORT\n",
        "# Go to 127.0.0.1:PORT in your web browser\n",
        "\n",
        "\n",
        "\n",
        "%load_ext tensorboard\n",
        "#%reload_ext tensorboard\n",
        "%tensorboard --logdir /content/drive/My\\ Drive/Colab\\ Notebooks/TrackGAN/logs/ --port 6009\n",
        "#%tensorboard --logdir path_to_TrackGAN + \"logs/\" --port 6010"
      ]
    },
    {
      "cell_type": "code",
      "source": [
        "rlib()\n",
        "met = custom_metrics.gan_discriminator_metric(tf.keras.metrics.BinaryAccuracy, name = \"Discriminator Accuracy\",GAN_module = 'discriminator', threshold = 0.5)\n",
        "met.compute_metric( [1,1] , [0,0] )\n",
        "met.display_results() \n",
        "met.get_history()"
      ],
      "metadata": {
        "colab": {
          "base_uri": "https://localhost:8080/"
        },
        "id": "8OSUdFjBx6_X",
        "outputId": "66ae316a-5315-4df4-82cd-4862a3a5418f"
      },
      "execution_count": null,
      "outputs": [
        {
          "output_type": "stream",
          "name": "stdout",
          "text": [
            "Discriminator Accuracy on Real 1.0 \n",
            "Discriminator Accuracy on Fake 1.0\n"
          ]
        },
        {
          "output_type": "execute_result",
          "data": {
            "text/plain": [
              "([], [])"
            ]
          },
          "metadata": {},
          "execution_count": 78
        }
      ]
    },
    {
      "cell_type": "code",
      "source": [
        "rlib()\n",
        "# Metrics\n",
        "custom_gan_metrics = [custom_metrics.gan_discriminator_metric(tf.keras.metrics.BinaryAccuracy, name = \"Discriminator Accuracy\",GAN_module = 'discriminator', threshold = 0.5),\n",
        "                      custom_metrics.gan_discriminator_metric(tf.keras.metrics.BinaryCrossentropy, name = \"Discriminator Binary Crossentropy\",GAN_module = 'discriminator', from_logits = False)]\n"
      ],
      "metadata": {
        "id": "QAud0RvyhWXW"
      },
      "execution_count": null,
      "outputs": []
    },
    {
      "cell_type": "code",
      "source": [
        "noise_seed.shape\n",
        "print()\n",
        "print(target_seed.shape)"
      ],
      "metadata": {
        "colab": {
          "base_uri": "https://localhost:8080/"
        },
        "id": "T9W7BTgfKpuh",
        "outputId": "9802021e-2a8e-4440-bbbd-f796d0f713f5"
      },
      "execution_count": null,
      "outputs": [
        {
          "output_type": "execute_result",
          "data": {
            "text/plain": [
              "TensorShape([9, 100])"
            ]
          },
          "metadata": {},
          "execution_count": 115
        },
        {
          "output_type": "stream",
          "name": "stdout",
          "text": [
            "\n",
            "(9, 1)\n"
          ]
        }
      ]
    },
    {
      "cell_type": "code",
      "source": [
        "generator( [ noise_seed, target_seed] , training= False)"
      ],
      "metadata": {
        "id": "180ylNtTKSty"
      },
      "execution_count": null,
      "outputs": []
    },
    {
      "cell_type": "markdown",
      "metadata": {
        "id": "faNsrSbzSQTE"
      },
      "source": [
        "Things to look for:\n",
        "- Check that neither the generator nor the discriminator model has \"won\". If either the gen_gan_loss or the disc_loss gets very low, it's an indicator that this model is dominating the other, and you are not successfully training the combined model.\n",
        "- The value log(2) = 0.69 is a good reference point for these losses, as it indicates a perplexity of 2 - the discriminator is, on average, equally uncertain about the two options.\n",
        "- For the disc_loss, a value below 0.69 means the discriminator is doing better than random on the combined set of real and generated images.\n",
        "- For the gen_gan_loss, a value below 0.69 means the generator is doing better than random at fooling the discriminator."
      ]
    },
    {
      "cell_type": "code",
      "execution_count": 122,
      "metadata": {
        "colab": {
          "base_uri": "https://localhost:8080/",
          "height": 1000
        },
        "id": "zZfkJT9FzYQs",
        "outputId": "9ea0e67c-e6c9-466d-d8a1-9780e93a9d93"
      },
      "outputs": [
        {
          "output_type": "stream",
          "name": "stdout",
          "text": [
            "Saved checkpoint for step 4999: /content/drive/My Drive/Colab Notebooks/TrackGAN/training_checkpoints/ConditionedGAN Sample RGB1/tf_ckpts-5006\n",
            "\n",
            "Generator Epoch loss 3.723\n",
            "Discriminator Epoch Total Loss 0.922  Discriminator Epoch Real Loss 0.461  Discriminator Epoch Fake Loss 0.461\n",
            "\n",
            "Discriminator Accuracy on Real 0.6889 \n",
            "Discriminator Accuracy on Fake 0.6444\n",
            "Discriminator Binary Crossentropy on Real 0.4612 \n",
            "Discriminator Binary Crossentropy on Fake 0.4612\n",
            "\n",
            "Avg Log Loss on Distribution per Pixel : 9005011.792744916\n",
            "Avg Log Loss on Distribution Per Channel : 81049084.04382657\n",
            "Avg Log Loss on Distribution Per (2,2) Patch : 41515303.18367347\n",
            "\n",
            "Avg KL Divergence on Distribution per Pixel : 77388210.84424065\n",
            "Avg KL Divergence on Distribution Per Channel : 262347329.29024374\n",
            "Avg KL Divergence on Distribution Per (2,2) Patch : 262318288.0\n"
          ]
        },
        {
          "output_type": "display_data",
          "data": {
            "image/png": "[encoded data removed]",
            "text/plain": [
              "<Figure size 460x460 with 9 Axes>"
            ]
          },
          "metadata": {
            "needs_background": "light"
          }
        },
        {
          "output_type": "display_data",
          "data": {
            "image/png": "[encoded data removed]",
            "text/plain": [
              "<Figure size 600x600 with 5 Axes>"
            ]
          },
          "metadata": {
            "needs_background": "light"
          }
        },
        {
          "output_type": "display_data",
          "data": {
            "image/png": "[encoded data removed]",
            "text/plain": [
              "<Figure size 936x1008 with 6 Axes>"
            ]
          },
          "metadata": {
            "needs_background": "light"
          }
        },
        {
          "output_type": "stream",
          "name": "stdout",
          "text": [
            "Time for epoch 4999 is 4.047929048538208 sec\n"
          ]
        },
        {
          "output_type": "execute_result",
          "data": {
            "application/vnd.google.colaboratory.intrinsic+json": {
              "type": "string"
            },
            "text/plain": [
              "'\\n309148.\\n\\n'"
            ]
          },
          "metadata": {},
          "execution_count": 122
        }
      ],
      "source": [
        "# With random weights initialization the accuracy on fake images is very high, due to low weights -> low weights output -> sigmoid -> 0 -> 0 is good for fake images.\n",
        "# The discriminator won't learn how to classify real images, will just be resilient to the generaor -> from epoch 1 and on Accuracy on real images = 0\n",
        "# Find measure of image quality - perhaps mean std per pixel in dataset and compute the probability of that\n",
        "\n",
        "# Convert ln of loss in probability\n",
        "# USE AVG/MAX POOLING for image smoothness\n",
        "\n",
        "# Aggiungere grafico con le immagini generate e la probabilità assegnata dal dataset d'origine\n",
        "# Fix the x axis of the graphs, otherwise thwy will look similar\n",
        "# MODIFY ALSO DISCRIMINATOR\n",
        "# Add avg pooling as last layer - to smooth images coming out of the generator\n",
        "\n",
        "# The log loss when you have conditioning cannot be computed conditioned_image vs entire original dataset. It won't match - > If the generated seed distribution is not equal to the dataset intrinsic distribution of classes\n",
        "# LOG TO TENSORBOARD ALSO DISTRIBUTIONs DISPLAYED BY MATPLOT\n",
        "# CHECK DISTRIBUTION ON NORMALIZED OR NOT IMAGES\n",
        "# CHANGE HOW TO GEN EXTRA INPUTS OR BATCH WITH DIFFERENT SIZE FUCK UP\n",
        "\n",
        "# Save to tensorboard THE DISTO PLOTS!!\n",
        "# Plot the distribution as if 20x20 images\n",
        "# Find a way to Introduce the variance in the image\n",
        "# Add graphs of losses?\n",
        "\n",
        "# image sum log loss uses the mean of the generated images to calculate the probability of that to be sampled on the real dist\n",
        "# -> calculate the distance between the real dist and the generated image dist\n",
        "# Rivedere se usare sum log loss o direttamente mean log loss (per pixel/channel etc)\n",
        "\n",
        "# Add a part of the architecture trained on IQA dataset to help producing good results\n",
        "\n",
        "## CReare dataset di immaggini con solo rosso, magari distribuzione a forma di quadrato e vedere\n",
        "## Se la GAN riesce a ricreare la distribuzione in uscita\n",
        "# od anche blue ve\n",
        "\u0010\n",
        "rlib()\n",
        "EPOCHS = 5000\n",
        "#valid_dataset\n",
        "image_save_path = path_to_TrackGAN + 'Generated Images/' + model_name +'/'\n",
        "\n",
        "# Check if a checkpoint exists\n",
        "if checkpoint_manager.latest_checkpoint:\n",
        "  print(\"Restored from {}\".format(checkpoint_manager.latest_checkpoint))\n",
        "  _ = checkpoint.restore(checkpoint_manager.latest_checkpoint)\n",
        "\n",
        "\n",
        "\n",
        "\n",
        "train_asses.train(training_dataset, EPOCHS, valid_dataset= None, starting_epoch= checkpoint.step.numpy() ,\n",
        "                  generator= generator, discriminator= discriminator, generator_optimizer= generator_optimizer, discriminator_optimizer= discriminator_optimizer,\n",
        "                  generator_loss= generator_loss, discriminator_loss= discriminator_loss, noise_dim= noise_dim, summary_writer= summary_writer, gen_seed= [ noise_seed, target_seed],\n",
        "                  checkpoint_manager= checkpoint_manager, distributions= distributions, model_name= model_name, DEBUG= False, BATCH_SIZE= BATCH_SIZE,\n",
        "                  image_save_path= image_save_path, custom_gan_metrics= custom_gan_metrics )\n",
        "\n",
        "\n",
        "'''\n",
        "309148.\n",
        "\n",
        "'''"
      ]
    },
    {
      "cell_type": "code",
      "execution_count": null,
      "metadata": {
        "colab": {
          "base_uri": "https://localhost:8080/"
        },
        "id": "2orzuweMBKbF",
        "outputId": "71a09953-f758-4d24-901d-c3c07ddfdca7"
      },
      "outputs": [
        {
          "output_type": "stream",
          "name": "stdout",
          "text": [
            "Restored from /content/drive/My Drive/Colab Notebooks/TrackGAN/training_checkpoints/ConditionedGAN G 356k-275k/tf_ckpts-43\n"
          ]
        }
      ],
      "source": [
        "#checkpoint.restore(tf.train.latest_checkpoint(checkpoint_dir))\n",
        "if checkpoint_manager.latest_checkpoint:\n",
        "  print(\"Restored from {}\".format(checkpoint_manager.latest_checkpoint))\n",
        "  _ = checkpoint.restore(checkpoint_manager.latest_checkpoint)\n",
        "  #checkpoint_to_restore = '/content/drive/My Drive/Colab Notebooks/TrackGAN/training_checkpoints/ConditionedGAN Shrinked/tf_ckpts-146'\n",
        "  #_ = checkpoint.restore(checkpoint_to_restore)\n",
        "\n"
      ]
    },
    {
      "cell_type": "code",
      "execution_count": null,
      "metadata": {
        "colab": {
          "base_uri": "https://localhost:8080/",
          "height": 440
        },
        "id": "TcjR-00UBVa-",
        "outputId": "b600cf79-6213-4990-cdc8-e9cff8cbe267"
      },
      "outputs": [
        {
          "output_type": "stream",
          "name": "stdout",
          "text": [
            "Target :  0\n"
          ]
        },
        {
          "output_type": "display_data",
          "data": {
            "image/png": "[encoded data removed]",
            "text/plain": [
              "<Figure size 900x900 with 10 Axes>"
            ]
          },
          "metadata": {
            "needs_background": "light"
          }
        },
        {
          "output_type": "stream",
          "name": "stdout",
          "text": [
            "Target :  1\n"
          ]
        },
        {
          "output_type": "display_data",
          "data": {
            "image/png": "[encoded data removed]",
            "text/plain": [
              "<Figure size 900x900 with 10 Axes>"
            ]
          },
          "metadata": {
            "needs_background": "light"
          }
        },
        {
          "output_type": "stream",
          "name": "stdout",
          "text": [
            "Target :  2\n"
          ]
        },
        {
          "output_type": "display_data",
          "data": {
            "image/png": "[encoded data removed]",
            "text/plain": [
              "<Figure size 900x900 with 10 Axes>"
            ]
          },
          "metadata": {
            "needs_background": "light"
          }
        },
        {
          "output_type": "stream",
          "name": "stdout",
          "text": [
            "Target :  3\n"
          ]
        },
        {
          "output_type": "display_data",
          "data": {
            "image/png": "[encoded data removed]",
            "text/plain": [
              "<Figure size 900x900 with 10 Axes>"
            ]
          },
          "metadata": {
            "needs_background": "light"
          }
        }
      ],
      "source": [
        "num_examples_to_generate = 10\n",
        "\n",
        "noise_sample = train_asses.generate_noise([ num_examples_to_generate, noise_dim])\n",
        "\n",
        "model_name = \"Prediction CGAN\"\n",
        "\n",
        "for i in range(0,4):\n",
        "  #Set the target index to 1\n",
        "  sample_target = [0,0,0,0,0,0,0,0,0,0]\n",
        "  sample_target[i] = 1\n",
        "  print(\"Target : \" , i)\n",
        "\n",
        "  # Batch data\n",
        "  batch_target = np.array([ sample_target ]*num_examples_to_generate)\n",
        "\n",
        "  generated_images = generator([noise_sample , batch_target],training= False)\n",
        "  image_utils.display_multiple_image(image_utils.denormalize_images(generated_images) ,  size = (900,900), inline=True)\n"
      ]
    },
    {
      "cell_type": "code",
      "execution_count": null,
      "metadata": {
        "id": "QmTbvw8m0OmT"
      },
      "outputs": [],
      "source": [
        "image_path = path_to_TrackGAN + 'Generated Images/' + model_name +'/'\n",
        "\n",
        "anim_file = path_to_TrackGAN + 'Generated Images/' + model_name + '.gif'\n",
        "\n",
        "image_utils.generate_GIF(image_path, anim_file)"
      ]
    },
    {
      "cell_type": "code",
      "execution_count": null,
      "metadata": {
        "id": "2qaSx9rV0dD_"
      },
      "outputs": [],
      "source": [
        "#!pip install  git+https://github.com/tensorflow/docs\n",
        "#import tensorflow_docs.vis.embed as embed\n",
        "\n",
        "embed.embed_file(anim_file)"
      ]
    }
  ],
  "metadata": {
    "colab": {
      "collapsed_sections": [],
      "name": "TrackGAN.ipynb",
      "provenance": []
    },
    "kernelspec": {
      "display_name": "Python 3",
      "name": "python3"
    },
    "language_info": {
      "name": "python"
    }
  },
  "nbformat": 4,
  "nbformat_minor": 0
}